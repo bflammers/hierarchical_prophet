{
 "cells": [
  {
   "cell_type": "code",
   "execution_count": 1,
   "metadata": {},
   "outputs": [],
   "source": [
    "%load_ext autoreload\n",
    "%autoreload 2"
   ]
  },
  {
   "cell_type": "code",
   "execution_count": 2,
   "metadata": {},
   "outputs": [],
   "source": [
    "import sys \n",
    "import os"
   ]
  },
  {
   "cell_type": "code",
   "execution_count": 3,
   "metadata": {},
   "outputs": [],
   "source": [
    "parent_dir = os.path.join(os.getcwd(), os.pardir)\n",
    "sys.path.append(parent_dir)"
   ]
  },
  {
   "cell_type": "code",
   "execution_count": 4,
   "metadata": {},
   "outputs": [
    {
     "name": "stdout",
     "output_type": "stream",
     "text": [
      "Hello world!\n"
     ]
    }
   ],
   "source": [
    "from src import model\n",
    "from src import utils"
   ]
  },
  {
   "cell_type": "code",
   "execution_count": 5,
   "metadata": {},
   "outputs": [],
   "source": [
    "import numpy as np\n",
    "import pandas as pd\n",
    "import scipy\n",
    "import datetime"
   ]
  },
  {
   "cell_type": "code",
   "execution_count": 6,
   "metadata": {},
   "outputs": [],
   "source": [
    "import pymc3 as pm"
   ]
  },
  {
   "cell_type": "code",
   "execution_count": 7,
   "metadata": {},
   "outputs": [],
   "source": [
    "import matplotlib.pyplot as plt"
   ]
  },
  {
   "cell_type": "code",
   "execution_count": 8,
   "metadata": {},
   "outputs": [
    {
     "data": {
      "text/plain": [
       "<matplotlib.axes._subplots.AxesSubplot at 0x11fad5130>"
      ]
     },
     "execution_count": 8,
     "metadata": {},
     "output_type": "execute_result"
    },
    {
     "data": {
      "image/png": "[encoded data removed]",
      "text/plain": [
       "<Figure size 432x288 with 1 Axes>"
      ]
     },
     "metadata": {
      "needs_background": "light"
     },
     "output_type": "display_data"
    }
   ],
   "source": [
    "df = utils.random_timeseries()\n",
    "df.set_index(df['ds']).drop(columns=['t', 'ds'])['y_1'].plot()"
   ]
  },
  {
   "cell_type": "code",
   "execution_count": 9,
   "metadata": {},
   "outputs": [],
   "source": [
    "def det_dot(a, b):\n",
    "    \"\"\"\n",
    "    The theano dot product and NUTS sampler don't work with large matrices?\n",
    "    \n",
    "    :param a: (np matrix)\n",
    "    :param b: (theano vector)\n",
    "    \"\"\"\n",
    "    return (a * b[None, :]).sum(axis=-1)"
   ]
  },
  {
   "cell_type": "code",
   "execution_count": 10,
   "metadata": {},
   "outputs": [],
   "source": [
    "def fourier_series(t, p=365.25, n=10):\n",
    "    # 2 pi n / p\n",
    "    x = 2 * np.pi * np.arange(1, n + 1) / p\n",
    "    # 2 pi n / p * t\n",
    "    x = x * t[:, None]\n",
    "    x = np.concatenate((np.cos(x), np.sin(x)), axis=1)\n",
    "    return x"
   ]
  },
  {
   "cell_type": "code",
   "execution_count": 11,
   "metadata": {},
   "outputs": [],
   "source": [
    "s = np.linspace(0, 0.8 * np.max(df['t']), 25 + 1)[1:]\n",
    "\n",
    "# * 1 casts the boolean to integers\n",
    "# A is a boolean matrix specifying which observation time stamps (vector t) --> rows\n",
    "# have surpasses which changepoint time stamps (vector s) --> columns\n",
    "A = (df['t'][:, None] > s) * 1\n",
    "\n",
    "F = np.concatenate([\n",
    "    fourier_series(df['t'], 365.25, 4), # Seasonality w/ yearly period\n",
    "    fourier_series(df['t'], 7, 3) # Seasonality w/ weekly period\n",
    "], axis = 1)"
   ]
  },
  {
   "cell_type": "code",
   "execution_count": 17,
   "metadata": {},
   "outputs": [],
   "source": [
    "# Generate a PyMC3 Model context\n",
    "m = pm.Model()\n",
    "\n",
    "with m:\n",
    "    \n",
    "    # Priors\n",
    "    k = pm.Normal('k', 0, 5)\n",
    "    m = pm.Normal('m', 0, 5)\n",
    "    delta = pm.Laplace('delta', 0, 0.05, shape = 25)\n",
    "    beta = pm.Normal('beta', 0, 10, shape = F.shape[1])\n",
    "    \n",
    "    # Model\n",
    "    \n",
    "    # Linear trend\n",
    "    gamma = -s * delta\n",
    "    y = (k + det_dot(A, delta)) * df['t'] + (m + det_dot(A, gamma))\n",
    "    \n",
    "    # Seasonality\n",
    "    y += det_dot(F, beta)\n",
    "    \n",
    "    # Likelihood\n",
    "    sigma = pm.HalfCauchy('sigma', 0.5, testval=1)\n",
    "    obs = pm.Normal('obs', mu=y, sd=sigma, observed=df['y_1'])"
   ]
  },
  {
   "cell_type": "code",
   "execution_count": 20,
   "metadata": {},
   "outputs": [
    {
     "ename": "AttributeError",
     "evalue": "__enter__",
     "output_type": "error",
     "traceback": [
      "\u001b[0;31m---------------------------------------------------------------------------\u001b[0m",
      "\u001b[0;31mAttributeError\u001b[0m                            Traceback (most recent call last)",
      "\u001b[0;32m<ipython-input-20-9bab07ffc283>\u001b[0m in \u001b[0;36m<module>\u001b[0;34m\u001b[0m\n\u001b[1;32m      1\u001b[0m \u001b[0;31m# Something\u001b[0m\u001b[0;34m\u001b[0m\u001b[0;34m\u001b[0m\u001b[0;34m\u001b[0m\u001b[0m\n\u001b[0;32m----> 2\u001b[0;31m \u001b[0;32mwith\u001b[0m \u001b[0mm\u001b[0m\u001b[0;34m:\u001b[0m\u001b[0;34m\u001b[0m\u001b[0;34m\u001b[0m\u001b[0m\n\u001b[0m\u001b[1;32m      3\u001b[0m \u001b[0;34m\u001b[0m\u001b[0m\n\u001b[1;32m      4\u001b[0m     \u001b[0mtrace\u001b[0m \u001b[0;34m=\u001b[0m \u001b[0mpm\u001b[0m\u001b[0;34m.\u001b[0m\u001b[0msample\u001b[0m\u001b[0;34m(\u001b[0m\u001b[0;36m500\u001b[0m\u001b[0;34m)\u001b[0m\u001b[0;34m\u001b[0m\u001b[0;34m\u001b[0m\u001b[0m\n\u001b[1;32m      5\u001b[0m \u001b[0;34m\u001b[0m\u001b[0m\n",
      "\u001b[0;31mAttributeError\u001b[0m: __enter__"
     ]
    }
   ],
   "source": [
    "with m:    \n",
    "    trace = pm.sample(500)\n",
    "    \n",
    "pm.traceplot(trace)"
   ]
  },
  {
   "cell_type": "code",
   "execution_count": null,
   "metadata": {},
   "outputs": [],
   "source": [
    "def det_seasonality_posterior(beta, x):\n",
    "    return np.dot(x, beta.T)\n",
    "\n",
    "p = 0.025\n",
    "# vector distributions\n",
    "beta = trace['beta']\n",
    "delta = trace['delta']\n",
    "\n",
    "# scalar distributions\n",
    "k = trace['k']\n",
    "m = trace['m']\n",
    "\n",
    "# determine the posterior by evaulating all the values in the trace.\n",
    "trend_posterior = ((k + np.dot(A, delta.T)) * df['t'][:, None] + m + np.dot(A, (-s * delta).T)) * df['y_1'].max()\n",
    "\n",
    "seasonality = det_seasonality_posterior(beta, F) * df['y_1'].max()\n",
    "\n",
    "date = df['ds'].dt.to_pydatetime()\n",
    "sunday = np.argmax(df['ds'].dt.dayofweek)\n",
    "weekdays = ['sunday', 'monday', 'tuesday', 'wednesday', 'thursday', 'friday', 'saturday']\n",
    "idx_year = np.argmax(df['ds'].dt.dayofyear)\n",
    "\n",
    "plt.figure(figsize=(16, 3*6))\n",
    "b = 411\n",
    "plt.subplot(b)\n",
    "plt.title('total')\n",
    "plt.plot(date,\n",
    "         (trend_posterior + seasonality).mean(1), lw=0.5)\n",
    "plt.scatter(date, df['y_1'], s=0.5, color='black')\n",
    "\n",
    "plt.subplot(b + 1)\n",
    "plt.title('trend')\n",
    "plt.plot(date, trend_posterior.mean(1))\n",
    "quant = np.quantile(trend_posterior, [p, 1 - p], axis=1)\n",
    "plt.fill_between(date, quant[0, :], quant[1, :], alpha=0.25)\n",
    "\n",
    "plt.subplot(b + 2)\n",
    "plt.title('yearly')\n",
    "plt.plot(date[idx_year: idx_year + 365], seasonality.mean(1)[idx_year: idx_year + 365])\n",
    "quant = np.quantile(seasonality, [p, 1 - p], axis=1)\n",
    "plt.fill_between(date[idx_year: idx_year + 365],\n",
    "                 quant[0, idx_year: idx_year + 365], quant[1, idx_year: idx_year + 365], alpha=0.25)\n",
    "\n",
    "plt.subplot(b + 3)\n",
    "plt.title('weekly')\n",
    "plt.plot(weekdays, seasonality.mean(1)[sunday: sunday + 7])\n",
    "quant = np.quantile(seasonality, [p, 1 - p], axis=1)\n",
    "plt.fill_between(weekdays, quant[0, sunday: sunday + 7],\n",
    "                 quant[1, sunday: sunday + 7], alpha=0.25)"
   ]
  },
  {
   "cell_type": "code",
   "execution_count": null,
   "metadata": {},
   "outputs": [],
   "source": []
  }
 ],
 "metadata": {
  "kernelspec": {
   "display_name": "Python 3",
   "language": "python",
   "name": "python3"
  },
  "language_info": {
   "codemirror_mode": {
    "name": "ipython",
    "version": 3
   },
   "file_extension": ".py",
   "mimetype": "text/x-python",
   "name": "python",
   "nbconvert_exporter": "python",
   "pygments_lexer": "ipython3",
   "version": "3.8.0"
  }
 },
 "nbformat": 4,
 "nbformat_minor": 2
}
